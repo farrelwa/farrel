{
  "nbformat": 4,
  "nbformat_minor": 0,
  "metadata": {
    "colab": {
      "provenance": [],
      "authorship_tag": "ABX9TyPiWtel5QChuAPSDRjifHRl",
      "include_colab_link": true
    },
    "kernelspec": {
      "name": "python3",
      "display_name": "Python 3"
    },
    "language_info": {
      "name": "python"
    }
  },
  "cells": [
    {
      "cell_type": "markdown",
      "metadata": {
        "id": "view-in-github",
        "colab_type": "text"
      },
      "source": [
        "<a href=\"https://colab.research.google.com/github/farrelwa/farrel/blob/main/Untitled0.ipynb\" target=\"_parent\"><img src=\"https://colab.research.google.com/assets/colab-badge.svg\" alt=\"Open In Colab\"/></a>"
      ]
    },
    {
      "cell_type": "code",
      "execution_count": 1,
      "metadata": {
        "colab": {
          "base_uri": "https://localhost:8080/"
        },
        "id": "B9Pf99QBgTYI",
        "outputId": "0b127816-d518-4d4b-949b-710378fbfbf8"
      },
      "outputs": [
        {
          "output_type": "stream",
          "name": "stdout",
          "text": [
            "['aldi', 'bintang', 'deya', 'erico', 'evi', 'mega']\n"
          ]
        }
      ],
      "source": [
        "nama_acak = [\"evi\",\"aldi\",\"bintang\", \"mega\", \"erico\", \"deya\"]\n",
        "nama_acak.sort()\n",
        "print(nama_acak)"
      ]
    }
  ]
}